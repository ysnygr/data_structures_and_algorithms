{
  "nbformat": 4,
  "nbformat_minor": 0,
  "metadata": {
    "colab": {
      "provenance": []
    },
    "kernelspec": {
      "name": "python3",
      "display_name": "Python 3"
    },
    "language_info": {
      "name": "python"
    }
  },
  "cells": [
    {
      "cell_type": "code",
      "source": [
        "import random"
      ],
      "metadata": {
        "id": "RGs7G378stK3"
      },
      "execution_count": null,
      "outputs": []
    },
    {
      "cell_type": "markdown",
      "source": [
        "#R-1.1\n"
      ],
      "metadata": {
        "id": "UriQJ68y7upr"
      }
    },
    {
      "cell_type": "code",
      "source": [
        "def is_multiple(n,m):\n",
        "  if (n % m ==0):\n",
        "    return True\n",
        "  else:\n",
        "    return False\n",
        "\n",
        "is_multiple(10,2)"
      ],
      "metadata": {
        "colab": {
          "base_uri": "https://localhost:8080/"
        },
        "id": "mkaKsEhdQEqm",
        "outputId": "b94256be-97e4-4ec1-d155-8dfac7bb794d"
      },
      "execution_count": null,
      "outputs": [
        {
          "output_type": "execute_result",
          "data": {
            "text/plain": [
              "True"
            ]
          },
          "metadata": {},
          "execution_count": 15
        }
      ]
    },
    {
      "cell_type": "markdown",
      "source": [
        "#R-1.2"
      ],
      "metadata": {
        "id": "b8DptFpb7ygH"
      }
    },
    {
      "cell_type": "code",
      "source": [
        "def is_even(k):\n",
        "    return (k & 1) == 0\n",
        "\n",
        "\n",
        "is_even(10)"
      ],
      "metadata": {
        "colab": {
          "base_uri": "https://localhost:8080/"
        },
        "id": "zIhHWDTLQ9qE",
        "outputId": "86bf9f8e-7282-4d87-e2bf-c503791dd009"
      },
      "execution_count": null,
      "outputs": [
        {
          "output_type": "execute_result",
          "data": {
            "text/plain": [
              "True"
            ]
          },
          "metadata": {},
          "execution_count": 20
        }
      ]
    },
    {
      "cell_type": "markdown",
      "source": [
        "#R-1.3"
      ],
      "metadata": {
        "id": "xAUdem-T71Sb"
      }
    },
    {
      "cell_type": "code",
      "source": [
        "def minmax(data):\n",
        "    min_val = data[0]\n",
        "    max_val = data[0]\n",
        "    \n",
        "    for val in data[1:]:\n",
        "        if val < min_val:\n",
        "            min_val = val\n",
        "        elif val > max_val:\n",
        "            max_val = val\n",
        "    \n",
        "    return (min_val, max_val)\n",
        "a= minmax([1,3,5,4,6,2,8,2320,-1])\n",
        "print(a)"
      ],
      "metadata": {
        "colab": {
          "base_uri": "https://localhost:8080/"
        },
        "id": "X0Nw6KGjWpvh",
        "outputId": "c22449a7-2d40-4cc2-c8eb-d9181048471d"
      },
      "execution_count": null,
      "outputs": [
        {
          "output_type": "stream",
          "name": "stdout",
          "text": [
            "(-1, 2320)\n"
          ]
        }
      ]
    },
    {
      "cell_type": "markdown",
      "source": [
        "#R-1.4"
      ],
      "metadata": {
        "id": "2xCwBkXs72f3"
      }
    },
    {
      "cell_type": "code",
      "source": [
        "def sum_of_squares(n):\n",
        "    sum = 0\n",
        "    for i in range(1, n):\n",
        "        sum += i**2\n",
        "    return sum\n",
        "a = sum_of_squares(3)\n",
        "print(a)"
      ],
      "metadata": {
        "colab": {
          "base_uri": "https://localhost:8080/"
        },
        "id": "HiGL8_bUbJdO",
        "outputId": "4a347050-4ce8-4833-a72e-264a7ac0e390"
      },
      "execution_count": null,
      "outputs": [
        {
          "output_type": "stream",
          "name": "stdout",
          "text": [
            "5\n"
          ]
        }
      ]
    },
    {
      "cell_type": "markdown",
      "source": [
        "#R-1.5"
      ],
      "metadata": {
        "id": "ToJkxk0P74Fw"
      }
    },
    {
      "cell_type": "code",
      "source": [
        "def sum_of_squares2(n):\n",
        "  total = [n*n for n in range(1,n+1)]\n",
        "  sums = 0\n",
        "  for i in total:\n",
        "    sums = sums + i\n",
        "\n",
        "  return sums\n",
        "b = sum_of_squares2(5)\n",
        "print(b)"
      ],
      "metadata": {
        "colab": {
          "base_uri": "https://localhost:8080/"
        },
        "id": "HgEzgJoacxKr",
        "outputId": "393f3493-9c1c-473e-d919-31e7aff7a855"
      },
      "execution_count": null,
      "outputs": [
        {
          "output_type": "stream",
          "name": "stdout",
          "text": [
            "55\n"
          ]
        }
      ]
    },
    {
      "cell_type": "markdown",
      "source": [
        "#R-1.6"
      ],
      "metadata": {
        "id": "OcWkX8zN75t-"
      }
    },
    {
      "cell_type": "code",
      "source": [
        "def sum_of_squares_odd(n):\n",
        "    n -= 1\n",
        "    total = 0\n",
        "    while n > 0:\n",
        "        if n % 2 != 0:\n",
        "            total += n * n\n",
        "        n -= 1\n",
        "    return total\n",
        "x = sum_of_squares_odd(5)\n",
        "print(x)"
      ],
      "metadata": {
        "id": "bv75STytTVTT",
        "colab": {
          "base_uri": "https://localhost:8080/"
        },
        "outputId": "cbdbc0db-ae17-4da6-c11d-0ffbacef95b8"
      },
      "execution_count": null,
      "outputs": [
        {
          "output_type": "stream",
          "name": "stdout",
          "text": [
            "10\n"
          ]
        }
      ]
    },
    {
      "cell_type": "markdown",
      "source": [
        "#R-1.7"
      ],
      "metadata": {
        "id": "uHU1hY9P77ko"
      }
    },
    {
      "cell_type": "code",
      "source": [
        "def sum_of_squares_odd2(n):\n",
        "  return sum([k * k for k in range(0, n) if k % 2 != 0])\n",
        "\n",
        "x = sum_of_squares_odd2(5)\n",
        "print(x)"
      ],
      "metadata": {
        "colab": {
          "base_uri": "https://localhost:8080/"
        },
        "id": "nL8WooS_qtXm",
        "outputId": "cea3959b-009b-4b63-e667-cd89f0b6c17d"
      },
      "execution_count": null,
      "outputs": [
        {
          "output_type": "stream",
          "name": "stdout",
          "text": [
            "10\n"
          ]
        }
      ]
    },
    {
      "cell_type": "markdown",
      "source": [
        "#R-1.8"
      ],
      "metadata": {
        "id": "Gegwe2ck7-0h"
      }
    },
    {
      "cell_type": "code",
      "source": [
        "s = \"HelloWorld\"\n",
        "n = len(s)\n",
        "\n",
        "k = -5\n",
        "\n",
        "print(s[k])\n",
        "\n",
        "j = n+k\n",
        "\n",
        "print(s[j])"
      ],
      "metadata": {
        "colab": {
          "base_uri": "https://localhost:8080/"
        },
        "id": "P6Go1KpnsNSK",
        "outputId": "5c803137-aa75-46e4-f329-846164dd4107"
      },
      "execution_count": null,
      "outputs": [
        {
          "output_type": "stream",
          "name": "stdout",
          "text": [
            "W\n",
            "W\n"
          ]
        }
      ]
    },
    {
      "cell_type": "markdown",
      "source": [
        "#R-1.9"
      ],
      "metadata": {
        "id": "AOhspKMQ8Bka"
      }
    },
    {
      "cell_type": "code",
      "source": [
        "for i in range(50, 90, 10):\n",
        "  print(i)"
      ],
      "metadata": {
        "colab": {
          "base_uri": "https://localhost:8080/"
        },
        "id": "qv-YsdEUsqMn",
        "outputId": "b847c388-a454-4c1f-dd99-934fe0744fdb"
      },
      "execution_count": null,
      "outputs": [
        {
          "output_type": "stream",
          "name": "stdout",
          "text": [
            "50\n",
            "60\n",
            "70\n",
            "80\n"
          ]
        }
      ]
    },
    {
      "cell_type": "markdown",
      "source": [
        "#R-1.10"
      ],
      "metadata": {
        "id": "6Eqc_6nL8DL0"
      }
    },
    {
      "cell_type": "code",
      "source": [
        "for i in range(8, -10, -2):\n",
        "  print(i)"
      ],
      "metadata": {
        "colab": {
          "base_uri": "https://localhost:8080/"
        },
        "id": "KdA50DdduEYy",
        "outputId": "a0acbf12-849e-4f16-dedd-a5ebca52c64c"
      },
      "execution_count": null,
      "outputs": [
        {
          "output_type": "stream",
          "name": "stdout",
          "text": [
            "8\n",
            "6\n",
            "4\n",
            "2\n",
            "0\n",
            "-2\n",
            "-4\n",
            "-6\n",
            "-8\n"
          ]
        }
      ]
    },
    {
      "cell_type": "markdown",
      "source": [
        "#R-1.11"
      ],
      "metadata": {
        "id": "89JpwLfyO1Ok"
      }
    },
    {
      "cell_type": "code",
      "source": [
        "power_of_two = [pow(2,k) for k in range(0, 9, 1) ]\n",
        "print(power_of_two)"
      ],
      "metadata": {
        "colab": {
          "base_uri": "https://localhost:8080/"
        },
        "id": "SggpnX3mulyl",
        "outputId": "d66e6a7b-502a-43e3-e624-092f14f927da"
      },
      "execution_count": null,
      "outputs": [
        {
          "output_type": "stream",
          "name": "stdout",
          "text": [
            "[1, 2, 4, 8, 16, 32, 64, 128, 256]\n"
          ]
        }
      ]
    },
    {
      "cell_type": "markdown",
      "source": [
        "#R-1.12"
      ],
      "metadata": {
        "id": "H0zgs9yk8I1y"
      }
    },
    {
      "cell_type": "code",
      "source": [
        "import random\n",
        "\n",
        "def choice(data):\n",
        "  a = random.randrange(0,len(data))\n",
        "  return a\n",
        "\n",
        "\n",
        "b = choice([1,5,3,6,7,2,79,0,8])\n",
        "print(b)"
      ],
      "metadata": {
        "colab": {
          "base_uri": "https://localhost:8080/"
        },
        "id": "Z5V4GW1CvC6F",
        "outputId": "8e45134d-78a3-4aa5-e9e3-77cb9475f0bd"
      },
      "execution_count": null,
      "outputs": [
        {
          "output_type": "stream",
          "name": "stdout",
          "text": [
            "7\n"
          ]
        }
      ]
    },
    {
      "cell_type": "markdown",
      "source": [
        "#C-1.13"
      ],
      "metadata": {
        "id": "DJ5tbseG8Kb0"
      }
    },
    {
      "cell_type": "code",
      "source": [
        "def reverse_list(arr):\n",
        "    n = len(arr)\n",
        "    for i in range(n):\n",
        "        temp = arr[i]\n",
        "        arr[i] = arr[n-1-i]\n",
        "        arr[n-1-i] = temp\n",
        "        return arr\n",
        "\n",
        "print(reverse_list([1, 2, 3, 4, 5]))\n",
        "\n",
        "\n",
        "def reverse_list2(arr):\n",
        "  reversed_list = arr[::-1]\n",
        "  \n",
        "  return reversed_list\n",
        "print(reverse_list2([2,4,6,8,10]))"
      ],
      "metadata": {
        "colab": {
          "base_uri": "https://localhost:8080/"
        },
        "id": "Fdh-y_rCwiEW",
        "outputId": "b223efb7-25ea-4e03-97e6-45392612d4be"
      },
      "execution_count": null,
      "outputs": [
        {
          "output_type": "stream",
          "name": "stdout",
          "text": [
            "[5, 2, 3, 4, 1]\n",
            "[10, 8, 6, 4, 2]\n"
          ]
        }
      ]
    },
    {
      "cell_type": "markdown",
      "source": [
        "#C-1.15"
      ],
      "metadata": {
        "id": "e8d1xMIk8OO-"
      }
    },
    {
      "cell_type": "code",
      "source": [
        "\n",
        "def all_different(seq):\n",
        "    for i in range(len(seq)):\n",
        "        for j in range(i+1, len(seq)):\n",
        "            if seq[i] == seq[j]:\n",
        "                return False\n",
        "    return True\n",
        "print(all_different([1,2,3,4,5,5]))\n"
      ],
      "metadata": {
        "colab": {
          "base_uri": "https://localhost:8080/"
        },
        "id": "xobf7Wdg5OOv",
        "outputId": "b0f466db-f127-40c8-dd58-7695d29d8557"
      },
      "execution_count": null,
      "outputs": [
        {
          "output_type": "stream",
          "name": "stdout",
          "text": [
            "False\n"
          ]
        }
      ]
    },
    {
      "cell_type": "markdown",
      "source": [
        "#C-1.18"
      ],
      "metadata": {
        "id": "BA1Iyebp8QzX"
      }
    },
    {
      "cell_type": "code",
      "source": [
        "\n",
        "print([n*(n+1) for n in range(0,10)])\n"
      ],
      "metadata": {
        "id": "TV_3O-_I7V8w",
        "colab": {
          "base_uri": "https://localhost:8080/"
        },
        "outputId": "c06ea02c-c700-42c3-db6a-17d432c91d91"
      },
      "execution_count": null,
      "outputs": [
        {
          "output_type": "stream",
          "name": "stdout",
          "text": [
            "[0, 2, 6, 12, 20, 30, 42, 56, 72, 90]\n"
          ]
        }
      ]
    },
    {
      "cell_type": "markdown",
      "source": [
        "#C-1.19"
      ],
      "metadata": {
        "id": "-YMeC22V8SK7"
      }
    },
    {
      "cell_type": "code",
      "source": [
        "\n",
        "print([chr(i) for i in range(97,123)])\n"
      ],
      "metadata": {
        "colab": {
          "base_uri": "https://localhost:8080/"
        },
        "id": "buRtlG9FsSMr",
        "outputId": "b5a5edc6-75a6-479a-a2fd-6db6ef9b4ff6"
      },
      "execution_count": null,
      "outputs": [
        {
          "output_type": "stream",
          "name": "stdout",
          "text": [
            "['a', 'b', 'c', 'd', 'e', 'f', 'g', 'h', 'i', 'j', 'k', 'l', 'm', 'n', 'o', 'p', 'q', 'r', 's', 't', 'u', 'v', 'w', 'x', 'y', 'z']\n"
          ]
        }
      ]
    },
    {
      "cell_type": "markdown",
      "source": [
        "#C-1.20"
      ],
      "metadata": {
        "id": "EZqkA7FK8YoF"
      }
    },
    {
      "cell_type": "code",
      "source": [
        "def shuffle(data):\n",
        "    n = len(data)\n",
        "    for i in range(n):\n",
        "        j = random.randint(i, n-1)\n",
        "        data[i], data[j] = data[j], data[i]\n",
        "\n",
        "        return data\n",
        "\n",
        "\n",
        "print(shuffle([1,2,3,4,5]))"
      ],
      "metadata": {
        "colab": {
          "base_uri": "https://localhost:8080/"
        },
        "id": "x1wdX4o4srXK",
        "outputId": "43b26fac-c0e8-407e-93bc-50e632cd2a74"
      },
      "execution_count": null,
      "outputs": [
        {
          "output_type": "stream",
          "name": "stdout",
          "text": [
            "[5, 2, 3, 4, 1]\n"
          ]
        }
      ]
    },
    {
      "cell_type": "markdown",
      "source": [
        "#C-1.21"
      ],
      "metadata": {
        "id": "FjAXKZ4Z8ZzL"
      }
    },
    {
      "cell_type": "code",
      "source": [
        "lines = []\n",
        "try:\n",
        "    while True:\n",
        "        line = input()\n",
        "        lines.append(line)\n",
        "except EOFError:\n",
        "    # End of input reached\n",
        "    lines.reverse()\n",
        "    for line in lines:\n",
        "        print(line)"
      ],
      "metadata": {
        "id": "5C7D_lcRtHnA",
        "colab": {
          "base_uri": "https://localhost:8080/"
        },
        "outputId": "aa203d01-09af-4389-b4b3-a685224c4b23"
      },
      "execution_count": null,
      "outputs": [
        {
          "output_type": "stream",
          "name": "stdout",
          "text": [
            "haber\n",
            "borsh\n",
            "\u0004\n",
            "borsh\n",
            "haber\n"
          ]
        }
      ]
    },
    {
      "cell_type": "markdown",
      "source": [
        "#C-1.22"
      ],
      "metadata": {
        "id": "y36Rzt0N8c2-"
      }
    },
    {
      "cell_type": "code",
      "source": [
        "a = [2,4,6,8]\n",
        "b = [1,3,5,7]\n",
        "\n",
        "def dot_prod(a,b):\n",
        "  c = []\n",
        "  for x in range (0,len(a)):\n",
        "    c.append(a[x]*b[x])\n",
        "  return c  \n",
        "\n",
        "print(dot_prod(a,b))  "
      ],
      "metadata": {
        "colab": {
          "base_uri": "https://localhost:8080/"
        },
        "id": "haWJFCuv6KNx",
        "outputId": "df9d56ac-72cc-4d1f-9861-26c0cdf0c8fe"
      },
      "execution_count": null,
      "outputs": [
        {
          "output_type": "stream",
          "name": "stdout",
          "text": [
            "[2, 12, 30, 56]\n"
          ]
        }
      ]
    },
    {
      "cell_type": "markdown",
      "source": [
        "#C-1.23"
      ],
      "metadata": {
        "id": "gJUSyfMx8nhq"
      }
    },
    {
      "cell_type": "code",
      "source": [
        "data = [1, 2, 3]\n",
        "index = 3\n",
        "try:\n",
        "    data[index] = 4\n",
        "except IndexError:\n",
        "    print(\"Don't try buffer overflow attacks in Python!\")"
      ],
      "metadata": {
        "id": "-seHmRYb7XzG",
        "colab": {
          "base_uri": "https://localhost:8080/"
        },
        "outputId": "86f08120-7635-4c14-bc97-dfaaf3251cb6"
      },
      "execution_count": null,
      "outputs": [
        {
          "output_type": "stream",
          "name": "stdout",
          "text": [
            "Don't try buffer overflow attacks in Python!\n"
          ]
        }
      ]
    },
    {
      "cell_type": "markdown",
      "source": [
        "#C-1.24"
      ],
      "metadata": {
        "id": "8aXJeoJg8-F6"
      }
    },
    {
      "cell_type": "code",
      "source": [
        "def count_vowels(string):\n",
        "    vowels = \"aeiouAEIOU\"\n",
        "    count = 0\n",
        "    for char in string:\n",
        "        if char in vowels:\n",
        "            count += 1\n",
        "    return count\n",
        "\n",
        "count_vowels(\"Hello, World!\")"
      ],
      "metadata": {
        "colab": {
          "base_uri": "https://localhost:8080/"
        },
        "id": "Yxz2sqcs9TEB",
        "outputId": "4b7bc9c1-419b-4eaa-f743-7e504ee92013"
      },
      "execution_count": null,
      "outputs": [
        {
          "output_type": "execute_result",
          "data": {
            "text/plain": [
              "3"
            ]
          },
          "metadata": {},
          "execution_count": 2
        }
      ]
    },
    {
      "cell_type": "markdown",
      "source": [
        "#C-1.25"
      ],
      "metadata": {
        "id": "oTXOf_I_9X6R"
      }
    },
    {
      "cell_type": "code",
      "source": [
        "def remove_punctuation(s):\n",
        "    punctuations = '''!()-[]{};:'\"\\,./?^*_'''\n",
        "    no_punct = \"\"\n",
        "    for char in s:\n",
        "        if char not in punctuations:\n",
        "            no_punct += char\n",
        "    return no_punct\n",
        "\n",
        "remove_punctuation(\"Let's try, Mike.\")"
      ],
      "metadata": {
        "colab": {
          "base_uri": "https://localhost:8080/",
          "height": 36
        },
        "id": "JYtUetIg95s6",
        "outputId": "e51d5570-7e37-4284-b01c-faf22cd8afe7"
      },
      "execution_count": null,
      "outputs": [
        {
          "output_type": "execute_result",
          "data": {
            "text/plain": [
              "'Lets try Mike'"
            ],
            "application/vnd.google.colaboratory.intrinsic+json": {
              "type": "string"
            }
          },
          "metadata": {},
          "execution_count": 3
        }
      ]
    },
    {
      "cell_type": "markdown",
      "source": [
        "#C-1.26"
      ],
      "metadata": {
        "id": "8uIwowvXeetp"
      }
    },
    {
      "cell_type": "code",
      "source": [
        "def formula(a, b, c):\n",
        "  if a + b == c:\n",
        "    return True\n",
        "  elif a == b - c:\n",
        "    return True\n",
        "  elif a * b == c:\n",
        "    return True\n",
        "  else:\n",
        "    return False\n",
        "\n",
        "\n",
        "formula(4,6,10)"
      ],
      "metadata": {
        "colab": {
          "base_uri": "https://localhost:8080/"
        },
        "id": "MQ7F7A2u_ziu",
        "outputId": "f0844b85-65ed-422a-9c10-ef53543ed628"
      },
      "execution_count": null,
      "outputs": [
        {
          "output_type": "execute_result",
          "data": {
            "text/plain": [
              "True"
            ]
          },
          "metadata": {},
          "execution_count": 4
        }
      ]
    },
    {
      "cell_type": "markdown",
      "source": [
        "#C-1.28"
      ],
      "metadata": {
        "id": "IMeCdDmJe1qm"
      }
    },
    {
      "cell_type": "code",
      "source": [
        "def norm(v,p=2):\n",
        "    sum = 0\n",
        "    for i in v:\n",
        "        sum += i**p\n",
        "    return sum ** (1/p)\n",
        "\n",
        "v = [3,4]\n",
        "\n",
        "print(norm(v))\n",
        "print(norm(v,3))"
      ],
      "metadata": {
        "colab": {
          "base_uri": "https://localhost:8080/"
        },
        "id": "o7Chcpyg_4kw",
        "outputId": "8c3d2f3f-d2b1-4a9d-ae18-b8e49760bbcf"
      },
      "execution_count": null,
      "outputs": [
        {
          "output_type": "stream",
          "name": "stdout",
          "text": [
            "5.0\n",
            "4.497941445275415\n"
          ]
        }
      ]
    },
    {
      "cell_type": "markdown",
      "source": [
        "#P-1.29"
      ],
      "metadata": {
        "id": "djT87ImAfmSu"
      }
    },
    {
      "cell_type": "code",
      "source": [
        "def permutations(s):\n",
        "    if len(s) == 1:\n",
        "        return [s]\n",
        "\n",
        "    result = []\n",
        "    for i in range(len(s)):\n",
        "        char = s[i]\n",
        "        remaining_chars = s[:i] + s[i+1:]\n",
        "\n",
        "        for permutation in permutations(remaining_chars):\n",
        "            result.append(char + permutation)\n",
        "\n",
        "    return result\n",
        "\n",
        "input_str = \"catdog\"\n",
        "permutations_list = permutations(input_str)\n",
        "\n",
        "\"\"\"\n",
        "for p in permutations_list:\n",
        "    print(p)\n",
        "\"\"\"\n",
        "\n",
        "print(len(permutations_list))"
      ],
      "metadata": {
        "colab": {
          "base_uri": "https://localhost:8080/"
        },
        "id": "LZenEVfhfnCO",
        "outputId": "efab2e2f-33d5-47b5-d117-4fb096665dcc"
      },
      "execution_count": null,
      "outputs": [
        {
          "output_type": "stream",
          "name": "stdout",
          "text": [
            "720\n"
          ]
        }
      ]
    },
    {
      "cell_type": "markdown",
      "source": [
        "#P-1.30"
      ],
      "metadata": {
        "id": "eGkp0H4DLnvc"
      }
    },
    {
      "cell_type": "code",
      "source": [
        "num = int(input(\"Enter a positive integer greater than 2: \"))\n",
        "\n",
        "if num < 2 :\n",
        "  raise ValueError(\"Input must be greater than 2.\")\n",
        "\n",
        "count = 0\n",
        "\n",
        "while num >= 2:\n",
        "    num /= 2\n",
        "    count += 1\n",
        "\n",
        "print(\"Result is:\", count)\n"
      ],
      "metadata": {
        "colab": {
          "base_uri": "https://localhost:8080/"
        },
        "id": "BC7qDFwULnc6",
        "outputId": "f81f32a8-6e3b-4d27-ea23-df595e0b9a6f"
      },
      "execution_count": 3,
      "outputs": [
        {
          "output_type": "stream",
          "name": "stdout",
          "text": [
            "Enter a positive integer greater than 2: 78\n",
            "Result is: 6\n"
          ]
        }
      ]
    },
    {
      "cell_type": "markdown",
      "source": [
        "#P-1.31"
      ],
      "metadata": {
        "id": "XTSuHL3JMiY3"
      }
    },
    {
      "cell_type": "code",
      "source": [
        "def make_change(charged, given):\n",
        "  rest = []\n",
        "  change = given - charged\n",
        "  if change <= 0:\n",
        "    raise ValueError(\"The money that given cannot be less than the charged.\")\n",
        "    \n",
        "\n",
        "  bills_coins = [100, 50, 20, 10, 5, 1, 0.25, 0.10, 0.05, 0.01]\n",
        "  for money in bills_coins:\n",
        "    a = divmod(change,money)\n",
        "    left_money = change - a[0]*money\n",
        "    \n",
        "    rest.append(a[0])\n",
        "     \n",
        "    change = left_money\n",
        "    dicts = {}\n",
        "    for i in range(len(rest)):\n",
        "      dicts[bills_coins[i]] = rest[i]\n",
        "\n",
        "\n",
        "  print(dicts)\n",
        "make_change (325.01,500)\n",
        "      "
      ],
      "metadata": {
        "id": "o11-HP1eMl_O",
        "colab": {
          "base_uri": "https://localhost:8080/"
        },
        "outputId": "4179174f-7e63-4108-a6df-63899aa30683"
      },
      "execution_count": null,
      "outputs": [
        {
          "output_type": "stream",
          "name": "stdout",
          "text": [
            "{100: 1.0, 50: 1.0, 20: 1.0, 10: 0.0, 5: 0.0, 1: 4.0, 0.25: 3.0, 0.1: 2.0, 0.05: 0.0, 0.01: 4.0}\n"
          ]
        }
      ]
    },
    {
      "cell_type": "markdown",
      "source": [
        "#P-1.32"
      ],
      "metadata": {
        "id": "9kIYpQrUM2VN"
      }
    },
    {
      "cell_type": "code",
      "source": [
        "first_number = float(input(\"Please Enter The First Number \"))\n",
        "second_number = float(input(\"Please Enter The Second Number \"))\n",
        "\n",
        "operator = int(input(\"Please Select an operator 1 for +, 2 for -, 3 for *, 4 for / \"))\n",
        "\n",
        "if operator == 1:\n",
        "  result = first_number + second_number\n",
        "elif operator == 2:\n",
        "  result = first_number - second_number\n",
        "elif operator == 3:\n",
        "  result = first_number * second_number\n",
        "elif operator == 4:\n",
        "  result = first_number / second_number\n",
        "else:\n",
        "  raise ValueError(\"input for operator must be between 1-4\")\n",
        "print(result)"
      ],
      "metadata": {
        "colab": {
          "base_uri": "https://localhost:8080/"
        },
        "id": "zhe-BBwSM4t3",
        "outputId": "951f17ef-47dc-4225-b2e9-24f68f290fcf"
      },
      "execution_count": null,
      "outputs": [
        {
          "output_type": "stream",
          "name": "stdout",
          "text": [
            "Please Enter The First Number 4\n",
            "Please Enter The Second Number 0.25\n",
            "Please Select an operator 1 for +, 2 for -, 3 for *, 4 for / 3\n",
            "1.0\n"
          ]
        }
      ]
    },
    {
      "cell_type": "markdown",
      "source": [
        "#P-1.33"
      ],
      "metadata": {
        "id": "iyZ_gUTriXdP"
      }
    },
    {
      "cell_type": "code",
      "source": [
        "def add(x, y):\n",
        "    return x + y\n",
        "\n",
        "def subtract(x, y):\n",
        "    return x - y\n",
        "\n",
        "def multiply(x, y):\n",
        "    return x * y\n",
        "\n",
        "def divide(x, y):\n",
        "    return x / y\n",
        "\n",
        "# Define a function to handle user input and perform calculations\n",
        "def calculator():\n",
        "    # Initialize the calculator screen to 0\n",
        "    screen = 0\n",
        "    \n",
        "    # Loop until the user enters 'q' to quit\n",
        "    while True:\n",
        "        # Get the user's input\n",
        "        user_input = input('> ')\n",
        "        \n",
        "        \n",
        "        # Check for a reset/clear operation\n",
        "        if user_input == 'c':\n",
        "            screen = 0\n",
        "            print('Screen cleared')\n",
        "       \n",
        "       \n",
        "        # Check for an addition operation\n",
        "        elif user_input.startswith('+'):\n",
        "            try:\n",
        "                num = float(user_input[1:])\n",
        "                screen = add(screen, num)\n",
        "                print(screen)\n",
        "            \n",
        "            except ValueError:\n",
        "                print('Invalid input')\n",
        "        \n",
        "        # Check for a subtraction operation\n",
        "        elif user_input.startswith('-'):\n",
        "            try:\n",
        "                num = float(user_input[1:])\n",
        "                screen = subtract(screen, num)\n",
        "                print(screen)\n",
        "            \n",
        "            except ValueError:\n",
        "                print('Invalid input')\n",
        "        \n",
        "        # Check for a multiplication operation\n",
        "        elif user_input.startswith('*'):\n",
        "            try:\n",
        "                num = float(user_input[1:])\n",
        "                screen = multiply(screen, num)\n",
        "                print(screen)\n",
        "            \n",
        "            except ValueError:\n",
        "                print('Invalid input')\n",
        "        \n",
        "        # Check for a division operation\n",
        "        elif user_input.startswith('/'):\n",
        "            try:\n",
        "                num = float(user_input[1:])\n",
        "                screen = divide(screen, num)\n",
        "                print(screen)\n",
        "           \n",
        "           \n",
        "            except ValueError:\n",
        "                print('Invalid input')\n",
        "            \n",
        "            except ZeroDivisionError:\n",
        "                print('Cannot divide by zero')\n",
        "        \n",
        "        elif user_input == 'q':\n",
        "            break\n",
        "        \n",
        "        else:\n",
        "            print('Invalid input')\n",
        "\n",
        "# Run the calculator program\n",
        "calculator()"
      ],
      "metadata": {
        "id": "8ZkpVOIfSQI1",
        "colab": {
          "base_uri": "https://localhost:8080/"
        },
        "outputId": "2b397d6e-1c69-421f-8bed-f0bf2d13658a"
      },
      "execution_count": null,
      "outputs": [
        {
          "name": "stdout",
          "output_type": "stream",
          "text": [
            "> 15\n",
            "Invalid input\n",
            "> 5\n",
            "Invalid input\n",
            "> /2\n",
            "0.0\n",
            "> +2\n",
            "2.0\n",
            "> /2\n",
            "1.0\n",
            "> *95\n",
            "95.0\n",
            "> /45\n",
            "2.111111111111111\n",
            "> c\n",
            "Screen cleared\n",
            "> q\n"
          ]
        }
      ]
    },
    {
      "cell_type": "markdown",
      "source": [
        "#P-1.34\n"
      ],
      "metadata": {
        "id": "w0FQitWMQaSI"
      }
    },
    {
      "cell_type": "code",
      "source": [
        "for x in range (1,101):\n",
        "  \n",
        "  punishment = \"I will never spam my friends again.\"\n",
        "\n",
        "  random_index =(random.randint(0,len(punishment)-1))\n",
        "  \n",
        "  punishment = punishment.replace(punishment[random_index], \"\",1)\n",
        "\n",
        "  print(\"{}-\".format(x) + punishment)"
      ],
      "metadata": {
        "colab": {
          "base_uri": "https://localhost:8080/"
        },
        "id": "8wIH4NWRQaGy",
        "outputId": "b2e44b41-ccda-4e02-8967-fd9bcd9374fe"
      },
      "execution_count": null,
      "outputs": [
        {
          "output_type": "stream",
          "name": "stdout",
          "text": [
            "1-I will neer spam my friends again.\n",
            "2-I will never spam my riends again.\n",
            "3-I wll never spam my friends again.\n",
            "4-Iwill never spam my friends again.\n",
            "5-I will never spa my friends again.\n",
            "6-I will never sam my friends again.\n",
            "7-Iwill never spam my friends again.\n",
            "8-I wll never spam my friends again.\n",
            "9-I wil never spam my friends again.\n",
            "10-I will never spa my friends again.\n",
            "11-I will neve spam my friends again.\n",
            "12-I will never spam my friends aain.\n",
            "13-I will never spam m friends again.\n",
            "14-I will nver spam my friends again.\n",
            "15-I will never spa my friends again.\n",
            "16-Iwill never spam my friends again.\n",
            "17-I will nver spam my friends again.\n",
            "18-I will nver spam my friends again.\n",
            "19-I will never spam m friends again.\n",
            "20-I will never spam my friends again\n",
            "21-Iwill never spam my friends again.\n",
            "22-I will never spam m friends again.\n",
            "23-I wil never spam my friends again.\n",
            "24-Iwill never spam my friends again.\n",
            "25-I will never spam my friens again.\n",
            "26-I will ever spam my friends again.\n",
            "27-Iwill never spam my friends again.\n",
            "28-I wil never spam my friends again.\n",
            "29-Iwill never spam my friends again.\n",
            "30-I ill never spam my friends again.\n",
            "31-I will never spm my friends again.\n",
            "32-Iwill never spam my friends again.\n",
            "33-I will never spam my riends again.\n",
            "34-I will ever spam my friends again.\n",
            "35-I will never spam my friends again\n",
            "36-I ill never spam my friends again.\n",
            "37-I will neve spam my friends again.\n",
            "38-I will nver spam my friends again.\n",
            "39-I wil never spam my friends again.\n",
            "40-I will never spm my friends again.\n",
            "41-I will ever spam my friends again.\n",
            "42-I will never spam m friends again.\n",
            "43-I will ever spam my friends again.\n",
            "44-I will never spam my friends aain.\n",
            "45-I will never spm my friends again.\n",
            "46-I ill never spam my friends again.\n",
            "47-I will never spam my riends again.\n",
            "48-I will never spam my riends again.\n",
            "49-I will never sam my friends again.\n",
            "50-Iwill never spam my friends again.\n",
            "51-I will never spm my friends again.\n",
            "52-I wll never spam my friends again.\n",
            "53-I will ever spam my friends again.\n",
            "54-I will never pam my friends again.\n",
            "55-I will never pam my friends again.\n",
            "56-I will ever spam my friends again.\n",
            "57-I will never sam my friends again.\n",
            "58-I will neer spam my friends again.\n",
            "59-I wll never spam my friends again.\n",
            "60-I will ever spam my friends again.\n",
            "61-I will ever spam my friends again.\n",
            "62-I wil never spam my friends again.\n",
            "63-Iwill never spam my friends again.\n",
            "64-Iwill never spam my friends again.\n",
            "65-I will never spm my friends again.\n",
            "66-I will never spam my friens again.\n",
            "67-I will ever spam my friends again.\n",
            "68-I will ever spam my friends again.\n",
            "69-Iwill never spam my friends again.\n",
            "70-Iwill never spam my friends again.\n",
            "71-Iwill never spam my friends again.\n",
            "72-I will never pam my friends again.\n",
            "73-I will never spa my friends again.\n",
            "74-I will ever spam my friends again.\n",
            "75-I will nver spam my friends again.\n",
            "76-I will never spam m friends again.\n",
            "77-I will never spm my friends again.\n",
            "78-I will ever spam my friends again.\n",
            "79-I wil never spam my friends again.\n",
            "80-I will never spam my riends again.\n",
            "81-I wll never spam my friends again.\n",
            "82-I wil never spam my friends again.\n",
            "83-I will nver spam my friends again.\n",
            "84-I will never spam my riends again.\n",
            "85-I wll never spam my friends again.\n",
            "86-I will never spa my friends again.\n",
            "87-I wil never spam my friends again.\n",
            "88-I will never spm my friends again.\n",
            "89-I will never pam my friends again.\n",
            "90-I will never spam m friends again.\n",
            "91-I will neve spam my friends again.\n",
            "92-I ill never spam my friends again.\n",
            "93-I will never spam my riends again.\n",
            "94-I will never spam m friends again.\n",
            "95-I will never spm my friends again.\n",
            "96-I wil never spam my friends again.\n",
            "97-I will never spam my riends again.\n",
            "98-I will never spam my riends again.\n",
            "99-I ill never spam my friends again.\n",
            "100-I will never spam my friens again.\n"
          ]
        }
      ]
    },
    {
      "cell_type": "markdown",
      "source": [
        "#P-1.35"
      ],
      "metadata": {
        "id": "6hwayPO4Vx33"
      }
    },
    {
      "cell_type": "code",
      "source": [
        "import random\n",
        "\n",
        "for n in range(5, 101, 5):\n",
        "    num_successes = 0\n",
        "    num_trials = 10000\n",
        "    \n",
        "    for _ in range(num_trials):\n",
        "        birthdays = [random.randint(1, 365) for _ in range(n)]\n",
        "        if len(birthdays) != len(set(birthdays)):\n",
        "            num_successes += 1\n",
        "    \n",
        "    success_rate = num_successes / num_trials\n",
        "    print(f\"For n = {n}, success rate = {success_rate:.2f}\")"
      ],
      "metadata": {
        "id": "ZEfuFJSpXEa7",
        "colab": {
          "base_uri": "https://localhost:8080/"
        },
        "outputId": "88a39778-5a77-468f-9c94-96252095a92f"
      },
      "execution_count": null,
      "outputs": [
        {
          "output_type": "stream",
          "name": "stdout",
          "text": [
            "For n = 5, success rate = 0.03\n",
            "For n = 10, success rate = 0.12\n",
            "For n = 15, success rate = 0.25\n",
            "For n = 20, success rate = 0.41\n",
            "For n = 25, success rate = 0.56\n",
            "For n = 30, success rate = 0.70\n",
            "For n = 35, success rate = 0.82\n",
            "For n = 40, success rate = 0.89\n",
            "For n = 45, success rate = 0.94\n",
            "For n = 50, success rate = 0.97\n",
            "For n = 55, success rate = 0.99\n",
            "For n = 60, success rate = 0.99\n",
            "For n = 65, success rate = 1.00\n",
            "For n = 70, success rate = 1.00\n",
            "For n = 75, success rate = 1.00\n",
            "For n = 80, success rate = 1.00\n",
            "For n = 85, success rate = 1.00\n",
            "For n = 90, success rate = 1.00\n",
            "For n = 95, success rate = 1.00\n",
            "For n = 100, success rate = 1.00\n"
          ]
        }
      ]
    },
    {
      "cell_type": "markdown",
      "source": [
        "#P-1.36"
      ],
      "metadata": {
        "id": "Vq9nZhgslbm_"
      }
    },
    {
      "cell_type": "code",
      "source": [
        "words = input(\"Enter a list of words, separated by whitespace: \").split()\n",
        "\n",
        "\n",
        "word_freq = {}\n",
        "\n",
        "\n",
        "for word in words:\n",
        "    if word in word_freq:\n",
        "        word_freq[word] += 1\n",
        "    else:\n",
        "        word_freq[word] = 1\n",
        "\n",
        "\n",
        "for word, freq in word_freq.items():\n",
        "    print(f\"{word}: {freq}\")"
      ],
      "metadata": {
        "colab": {
          "base_uri": "https://localhost:8080/"
        },
        "id": "c_TOtcDrldW9",
        "outputId": "d6b96b9f-2395-4bdb-8b99-60b595632980"
      },
      "execution_count": null,
      "outputs": [
        {
          "output_type": "stream",
          "name": "stdout",
          "text": [
            "Enter a list of words, separated by whitespace: Peter Piper picked a peck of pickled peppers A peck of pickled peppers Peter Piper picked If Peter Piper picked a peck of pickled peppers Where’s the peck of pickled peppers Peter Piper picked?\n",
            "Peter: 4\n",
            "Piper: 4\n",
            "picked: 3\n",
            "a: 2\n",
            "peck: 4\n",
            "of: 4\n",
            "pickled: 4\n",
            "peppers: 4\n",
            "A: 1\n",
            "If: 1\n",
            "Where’s: 1\n",
            "the: 1\n",
            "picked?: 1\n"
          ]
        }
      ]
    }
  ]
}